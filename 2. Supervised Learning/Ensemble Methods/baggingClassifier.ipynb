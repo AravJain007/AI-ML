{
 "cells": [
  {
   "cell_type": "code",
   "execution_count": 74,
   "metadata": {},
   "outputs": [],
   "source": [
    "from sklearn.model_selection import cross_val_score,KFold\n",
    "from sklearn.ensemble import VotingClassifier,BaggingClassifier\n",
    "from sklearn.linear_model import LogisticRegression\n",
    "from sklearn.tree import DecisionTreeClassifier\n",
    "from sklearn.svm import SVC\n",
    "from sklearn.preprocessing import MinMaxScaler,LabelEncoder\n",
    "from imblearn.over_sampling import SMOTE\n",
    "import pandas as pd\n",
    "import numpy as np"
   ]
  },
  {
   "cell_type": "code",
   "execution_count": 75,
   "metadata": {},
   "outputs": [],
   "source": [
    "dataframe = pd.read_csv(r'C:\\Users\\DELL\\Desktop\\AI ML\\DATA SETS\\Wine_data_supervised_classification.csv')\n",
    "dataframe = np.asarray(dataframe)\n",
    "X = dataframe[:,0:11]\n",
    "Y = dataframe[:,11].ravel()\n",
    "enc = LabelEncoder()\n",
    "Y = enc.fit_transform(Y)\n",
    "X = MinMaxScaler().fit_transform(X)"
   ]
  },
  {
   "cell_type": "code",
   "execution_count": 76,
   "metadata": {},
   "outputs": [
    {
     "data": {
      "text/plain": [
       "(1599, 12)"
      ]
     },
     "execution_count": 76,
     "metadata": {},
     "output_type": "execute_result"
    }
   ],
   "source": [
    "dataframe.shape"
   ]
  },
  {
   "cell_type": "code",
   "execution_count": 77,
   "metadata": {},
   "outputs": [
    {
     "data": {
      "text/plain": [
       "(array([3., 4., 5., 6., 7., 8.]),\n",
       " array([ 10,  53, 681, 638, 199,  18], dtype=int64))"
      ]
     },
     "execution_count": 77,
     "metadata": {},
     "output_type": "execute_result"
    }
   ],
   "source": [
    "np.unique(dataframe[:,11],return_counts=True)"
   ]
  },
  {
   "cell_type": "code",
   "execution_count": 78,
   "metadata": {},
   "outputs": [
    {
     "name": "stdout",
     "output_type": "stream",
     "text": [
      "0.6722951844903066\n"
     ]
    }
   ],
   "source": [
    "kfold = KFold(n_splits=3,random_state=8,shuffle=True)\n",
    "base_cls = DecisionTreeClassifier()\n",
    "Y = Y.ravel()\n",
    "model = BaggingClassifier(base_estimator=base_cls,n_estimators=500,random_state=8)\n",
    "results = cross_val_score(model, X, Y, cv=kfold)\n",
    "print(results.mean())"
   ]
  },
  {
   "cell_type": "code",
   "execution_count": 79,
   "metadata": {},
   "outputs": [
    {
     "name": "stdout",
     "output_type": "stream",
     "text": [
      "0.6160100062539087\n"
     ]
    }
   ],
   "source": [
    "estimator = []\n",
    "estimator.append(('SVC',SVC(gamma='auto',probability=True)))\n",
    "estimator.append(('LR',LogisticRegression(solver='lbfgs',multi_class='multinomial',max_iter=10000)))\n",
    "estimator.append(('DTC',DecisionTreeClassifier()))\n",
    "voting_cls = VotingClassifier(estimators=estimator,voting='soft')\n",
    "results = cross_val_score(voting_cls, X, Y, cv=kfold)\n",
    "print(results.mean())"
   ]
  },
  {
   "attachments": {},
   "cell_type": "markdown",
   "metadata": {},
   "source": [
    "AFTER APPLYING SMOTE"
   ]
  },
  {
   "cell_type": "code",
   "execution_count": 80,
   "metadata": {},
   "outputs": [
    {
     "data": {
      "text/plain": [
       "(array([0, 1, 2, 3, 4, 5], dtype=int64),\n",
       " array([681, 681, 681, 681, 681, 681], dtype=int64))"
      ]
     },
     "execution_count": 80,
     "metadata": {},
     "output_type": "execute_result"
    }
   ],
   "source": [
    "sm = SMOTE()\n",
    "X,Y = sm.fit_resample(X,Y)\n",
    "np.unique(Y,return_counts=True)"
   ]
  },
  {
   "cell_type": "code",
   "execution_count": 81,
   "metadata": {},
   "outputs": [
    {
     "name": "stdout",
     "output_type": "stream",
     "text": [
      "0.8534018600097895\n"
     ]
    }
   ],
   "source": [
    "kfold = KFold(n_splits=3,random_state=8,shuffle=True)\n",
    "base_cls = DecisionTreeClassifier()\n",
    "Y = Y.ravel()\n",
    "model = BaggingClassifier(base_estimator=base_cls,n_estimators=500,random_state=8)\n",
    "results = cross_val_score(model, X, Y, cv=kfold)\n",
    "print(results.mean())"
   ]
  },
  {
   "cell_type": "code",
   "execution_count": 82,
   "metadata": {},
   "outputs": [
    {
     "name": "stdout",
     "output_type": "stream",
     "text": [
      "0.77141458639256\n"
     ]
    }
   ],
   "source": [
    "estimator = []\n",
    "estimator.append(('SVC',SVC(gamma='auto',probability=True)))\n",
    "estimator.append(('LR',LogisticRegression(solver='lbfgs',multi_class='multinomial',max_iter=10000)))\n",
    "estimator.append(('DTC',DecisionTreeClassifier()))\n",
    "voting_cls = VotingClassifier(estimators=estimator,voting='soft')\n",
    "results = cross_val_score(voting_cls, X, Y, cv=kfold)\n",
    "print(results.mean())"
   ]
  }
 ],
 "metadata": {
  "kernelspec": {
   "display_name": "Python 3",
   "language": "python",
   "name": "python3"
  },
  "language_info": {
   "codemirror_mode": {
    "name": "ipython",
    "version": 3
   },
   "file_extension": ".py",
   "mimetype": "text/x-python",
   "name": "python",
   "nbconvert_exporter": "python",
   "pygments_lexer": "ipython3",
   "version": "3.10.9 (tags/v3.10.9:1dd9be6, Dec  6 2022, 20:01:21) [MSC v.1934 64 bit (AMD64)]"
  },
  "orig_nbformat": 4,
  "vscode": {
   "interpreter": {
    "hash": "5c1f741a4f83aa020b4b2a4d7353a073a4e5e4a855a3258a20da40294ddbf005"
   }
  }
 },
 "nbformat": 4,
 "nbformat_minor": 2
}
