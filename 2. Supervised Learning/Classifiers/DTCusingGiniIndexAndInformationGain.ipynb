{
 "cells": [
  {
   "cell_type": "code",
   "execution_count": 16,
   "metadata": {},
   "outputs": [],
   "source": [
    "import numpy as np\n",
    "import pandas as pd\n",
    "from sklearn.model_selection import train_test_split\n",
    "from sklearn.tree import DecisionTreeClassifier\n",
    "from sklearn.metrics import accuracy_score,confusion_matrix"
   ]
  },
  {
   "cell_type": "code",
   "execution_count": 17,
   "metadata": {},
   "outputs": [],
   "source": [
    "def import_data():\n",
    "    balance_data = pd.read_csv(\n",
    "'https://archive.ics.uci.edu/ml/machine-learning-'+\n",
    "'databases/balance-scale/balance-scale.data',\n",
    "    sep= ',', header = None)\n",
    "    print(balance_data.head())\n",
    "    return balance_data"
   ]
  },
  {
   "cell_type": "code",
   "execution_count": 18,
   "metadata": {},
   "outputs": [],
   "source": [
    "def splitdataset(balance_data):\n",
    "    X = balance_data.values[:,1:5]\n",
    "    y = balance_data.values[:,0]\n",
    "    X_train,X_test,y_train,y_test = train_test_split(X,y,test_size = 0.3,random_state = 100)\n",
    "    return X,y,X_train,X_test,y_train,y_test"
   ]
  },
  {
   "cell_type": "code",
   "execution_count": 19,
   "metadata": {},
   "outputs": [],
   "source": [
    "def train_using_gini(X_train,y_train,X_test):\n",
    "    clf_gini = DecisionTreeClassifier(criterion='gini',random_state=100,max_depth=3,min_samples_leaf=5)\n",
    "    clf_gini.fit(X_train,y_train)\n",
    "    clf_gini_pred = clf_gini.predict(X_test)\n",
    "    return clf_gini_pred"
   ]
  },
  {
   "cell_type": "code",
   "execution_count": 20,
   "metadata": {},
   "outputs": [],
   "source": [
    "def train_using_entropy(X_train,y_train,X_test):\n",
    "    clf_entropy = DecisionTreeClassifier(criterion='entropy',random_state=100,max_depth=3,min_samples_leaf=5)\n",
    "    clf_entropy.fit(X_train,y_train)\n",
    "    clf_entropy_pred = clf_entropy.predict(X_test)\n",
    "    return clf_entropy_pred"
   ]
  },
  {
   "cell_type": "code",
   "execution_count": 22,
   "metadata": {},
   "outputs": [
    {
     "name": "stdout",
     "output_type": "stream",
     "text": [
      "   0  1  2  3  4\n",
      "0  B  1  1  1  1\n",
      "1  R  1  1  1  2\n",
      "2  R  1  1  1  3\n",
      "3  R  1  1  1  4\n",
      "4  R  1  1  1  5\n",
      "Accuracy of Gini Decision Tree :  0.7340425531914894\n",
      "Confusion Matrix of Gini Decision Tree : \n",
      " [[ 0  0  0]\n",
      " [ 6 67 19]\n",
      " [ 7 18 71]]\n",
      "Accuracy of Entropy Decision Tree :  0.7074468085106383\n",
      "Confusion Matrix of Entropy Decision Tree : \n",
      " [[ 0  0  0]\n",
      " [ 6 63 20]\n",
      " [ 7 22 70]]\n"
     ]
    }
   ],
   "source": [
    "if __name__ == \"__main__\":\n",
    "    data = import_data()\n",
    "    X,y,X_train,X_test,y_train,y_test = splitdataset(data)\n",
    "    clf_gini_pred = train_using_gini(X_train,y_train,X_test)\n",
    "    clf_entropy_pred = train_using_entropy(X_train,y_train,X_test)\n",
    "    print(\"Accuracy of Gini Decision Tree : \", accuracy_score(clf_gini_pred,y_test))\n",
    "    print(\"Confusion Matrix of Gini Decision Tree : \\n\", confusion_matrix(clf_gini_pred,y_test))\n",
    "    print(\"Accuracy of Entropy Decision Tree : \", accuracy_score(clf_entropy_pred,y_test))\n",
    "    print(\"Confusion Matrix of Entropy Decision Tree : \\n\", confusion_matrix(clf_entropy_pred,y_test))"
   ]
  }
 ],
 "metadata": {
  "kernelspec": {
   "display_name": "Python 3",
   "language": "python",
   "name": "python3"
  },
  "language_info": {
   "codemirror_mode": {
    "name": "ipython",
    "version": 3
   },
   "file_extension": ".py",
   "mimetype": "text/x-python",
   "name": "python",
   "nbconvert_exporter": "python",
   "pygments_lexer": "ipython3",
   "version": "3.10.9"
  },
  "orig_nbformat": 4,
  "vscode": {
   "interpreter": {
    "hash": "5c1f741a4f83aa020b4b2a4d7353a073a4e5e4a855a3258a20da40294ddbf005"
   }
  }
 },
 "nbformat": 4,
 "nbformat_minor": 2
}
