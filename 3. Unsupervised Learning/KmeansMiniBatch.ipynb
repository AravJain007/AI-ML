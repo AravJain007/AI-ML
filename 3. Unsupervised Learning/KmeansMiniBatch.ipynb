{
 "cells": [
  {
   "cell_type": "code",
   "execution_count": 8,
   "metadata": {},
   "outputs": [],
   "source": [
    "from sklearn.cluster import MiniBatchKMeans\n",
    "from sklearn.metrics.pairwise import pairwise_distances_argmin\n",
    "from sklearn.datasets import make_blobs\n",
    "import numpy as np"
   ]
  },
  {
   "cell_type": "code",
   "execution_count": 12,
   "metadata": {},
   "outputs": [
    {
     "name": "stdout",
     "output_type": "stream",
     "text": [
      "(array([0, 1, 2, 3], dtype=int64), array([737, 816, 697, 750], dtype=int64))\n"
     ]
    }
   ],
   "source": [
    "batch_size = 45\n",
    "centers = [[1,1],[-2,-1],[1,-2],[1,9]]\n",
    "n_clusters = len(centers)\n",
    "X,label_true = make_blobs(n_samples=3000,centers=centers,cluster_std=0.9)\n",
    "mbk = MiniBatchKMeans(init='k-means++',n_clusters=4,batch_size=batch_size,n_init=10,max_no_improvement=10,verbose=0)\n",
    "mbk.fit(X)\n",
    "mbk_mean_cluster_centers = np.sort(mbk.cluster_centers_,axis=0)\n",
    "mbk_mean_labels = pairwise_distances_argmin(X,mbk_mean_cluster_centers)\n",
    "mbk_mean_labels = np.array(mbk_mean_labels)\n",
    "print(np.unique(mbk_mean_labels,return_counts=True))"
   ]
  }
 ],
 "metadata": {
  "kernelspec": {
   "display_name": "Python 3",
   "language": "python",
   "name": "python3"
  },
  "language_info": {
   "codemirror_mode": {
    "name": "ipython",
    "version": 3
   },
   "file_extension": ".py",
   "mimetype": "text/x-python",
   "name": "python",
   "nbconvert_exporter": "python",
   "pygments_lexer": "ipython3",
   "version": "3.10.9"
  },
  "orig_nbformat": 4,
  "vscode": {
   "interpreter": {
    "hash": "5c1f741a4f83aa020b4b2a4d7353a073a4e5e4a855a3258a20da40294ddbf005"
   }
  }
 },
 "nbformat": 4,
 "nbformat_minor": 2
}
