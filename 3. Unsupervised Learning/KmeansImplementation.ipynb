{
 "cells": [
  {
   "cell_type": "code",
   "execution_count": 120,
   "metadata": {},
   "outputs": [],
   "source": [
    "import math\n",
    "import numpy as np\n",
    "import pandas as pd\n",
    "import sys\n",
    "import random"
   ]
  },
  {
   "cell_type": "code",
   "execution_count": 121,
   "metadata": {},
   "outputs": [],
   "source": [
    "def ReadData(filename):\n",
    "    f = open(filename,'r')\n",
    "    lines = f.read().splitlines()\n",
    "    f.close()\n",
    "    items=[]\n",
    "    for i in range(1,len(lines)):\n",
    "        line = lines[i].split(',')\n",
    "        itemFeatures = []\n",
    "        for j in range(0,len(line)-1):\n",
    "            v = float(line[j])\n",
    "            itemFeatures.append(v)\n",
    "        items.append(itemFeatures)\n",
    "    random.shuffle(items)\n",
    "    return items"
   ]
  },
  {
   "cell_type": "code",
   "execution_count": 122,
   "metadata": {},
   "outputs": [],
   "source": [
    "def FindColMinMax(items):\n",
    "    n = len(items[0])\n",
    "    minima = [sys.maxsize for i in range(n)]\n",
    "    maxima = [-sys.maxsize-1 for i in range(n)]\n",
    "    for item in items:\n",
    "        for f in range(len(item)):\n",
    "            if item[f]<minima[f]:\n",
    "                minima[f] = item[f]\n",
    "            if item[f]>maxima[f]:\n",
    "                maxima[f] = item[f]\n",
    "    return maxima,minima"
   ]
  },
  {
   "cell_type": "code",
   "execution_count": 123,
   "metadata": {},
   "outputs": [],
   "source": [
    "def InitializeMeans(items,k,cMin,cMax):\n",
    "    f = len(items[0])\n",
    "    means =[[0 for i in range(f)]for i in range(k)]\n",
    "    for mean in means:\n",
    "        for i in range(len(mean)):\n",
    "            # uniform returns a random floating number between the two specified points\n",
    "            # +-1 added to avoid a wide placement of a mean\n",
    "            mean[i] = random.uniform(cMin[i]+1,cMax[i]-1)\n",
    "    return means"
   ]
  },
  {
   "cell_type": "code",
   "execution_count": 124,
   "metadata": {},
   "outputs": [],
   "source": [
    "def EucledianDistance(x,y):\n",
    "    S = 0\n",
    "    x = np.asarray(x)\n",
    "    y = np.asarray(y)\n",
    "    for i in range(len(x)):\n",
    "        S += (x[i]-y[i])**2\n",
    "    return math.sqrt(S)"
   ]
  },
  {
   "cell_type": "code",
   "execution_count": 125,
   "metadata": {},
   "outputs": [],
   "source": [
    "def UpdateMeans(n,mean,item):\n",
    "    for i in range(len(mean)):\n",
    "        m = mean[i]\n",
    "        m = (m*(n-1)+item[i])/float(n)\n",
    "        mean[i] = round(m,3)\n",
    "    return mean"
   ]
  },
  {
   "cell_type": "code",
   "execution_count": 126,
   "metadata": {},
   "outputs": [],
   "source": [
    "def Classify(means,item):\n",
    "    minimum = sys.maxsize\n",
    "    index = -1\n",
    "    for i in range(len(means)):\n",
    "        dis = EucledianDistance(item, means[i])\n",
    "        if(dis < minimum):\n",
    "            minimum = dis\n",
    "            index = i\n",
    "    return index"
   ]
  },
  {
   "cell_type": "code",
   "execution_count": 127,
   "metadata": {},
   "outputs": [],
   "source": [
    "def CalculateMeans(k,items,maxIterations=100000):\n",
    "    cMin,cMax = FindColMinMax(items)\n",
    "    means = InitializeMeans(items, k, cMin, cMax)\n",
    "    clusterSizes = [0 for i in range(len(means))]\n",
    "    belongsTo = [0 for i in range(len(items))]\n",
    "    for e in range(maxIterations):\n",
    "        noChange = True\n",
    "        for i in range(len(items)):\n",
    "            item = items[i]\n",
    "            index = Classify(means, item)\n",
    "            clusterSizes[index]+=1\n",
    "            cSize = clusterSizes[index]\n",
    "            means[index] = UpdateMeans(cSize, means[index], item)\n",
    "            if(index!=belongsTo[i]):\n",
    "                noChange = False\n",
    "            belongsTo[i] = index\n",
    "        if noChange:\n",
    "            break\n",
    "    return means"
   ]
  },
  {
   "cell_type": "code",
   "execution_count": 128,
   "metadata": {},
   "outputs": [],
   "source": [
    "def FindCluster(means,items):\n",
    "    clusters = [[]for i in range(len(means))]\n",
    "    for item in items:\n",
    "        index = Classify(means, item)\n",
    "        clusters[index].append(item)\n",
    "    return clusters"
   ]
  },
  {
   "cell_type": "code",
   "execution_count": 129,
   "metadata": {},
   "outputs": [
    {
     "name": "stdout",
     "output_type": "stream",
     "text": [
      "[[6.299, 2.89, 4.958, 1.7], [3.510304641119683, 1.7156334334240588, 5.7469044264089515, 2.78528750816119], [5.007, 3.359, 1.565, 0.288]]\n",
      "Cluster No.  1\n",
      "[[7.7, 3.0, 6.1, 2.3], [5.9, 3.2, 4.8, 1.8], [6.0, 3.4, 4.5, 1.6], [6.7, 3.0, 5.0, 1.7], [6.4, 2.7, 5.3, 1.9], [6.3, 3.3, 6.0, 2.5], [7.1, 3.0, 5.9, 2.1], [6.8, 2.8, 4.8, 1.4], [5.8, 2.7, 5.1, 1.9], [7.4, 2.8, 6.1, 1.9], [6.7, 3.3, 5.7, 2.1], [6.9, 3.1, 4.9, 1.5], [6.7, 3.1, 4.4, 1.4], [6.5, 3.0, 5.2, 2.0], [6.1, 2.9, 4.7, 1.4], [5.6, 2.7, 4.2, 1.3], [5.6, 2.5, 3.9, 1.1], [6.3, 3.3, 4.7, 1.6], [5.7, 2.5, 5.0, 2.0], [5.5, 2.6, 4.4, 1.2], [7.2, 3.0, 5.8, 1.6], [6.3, 2.9, 5.6, 1.8], [6.4, 3.2, 4.5, 1.5], [5.5, 2.4, 3.7, 1.0], [5.5, 2.3, 4.0, 1.3], [6.8, 3.2, 5.9, 2.3], [5.4, 3.0, 4.5, 1.5], [6.0, 2.9, 4.5, 1.5], [5.9, 3.0, 4.2, 1.5], [5.9, 3.0, 5.1, 1.8], [5.7, 2.9, 4.2, 1.3], [6.2, 2.8, 4.8, 1.8], [6.0, 2.2, 4.0, 1.0], [6.3, 3.4, 5.6, 2.4], [7.3, 2.9, 6.3, 1.8], [6.4, 3.2, 5.3, 2.3], [6.3, 2.7, 4.9, 1.8], [6.4, 3.1, 5.5, 1.8], [7.7, 2.6, 6.9, 2.3], [5.6, 2.8, 4.9, 2.0], [7.2, 3.2, 6.0, 1.8], [7.7, 2.8, 6.7, 2.0], [7.7, 3.8, 6.7, 2.2], [6.8, 3.0, 5.5, 2.1], [6.9, 3.1, 5.4, 2.1], [6.7, 3.1, 5.6, 2.4], [6.3, 2.5, 5.0, 1.9], [5.8, 2.7, 4.1, 1.0], [6.1, 3.0, 4.9, 1.8], [6.7, 2.5, 5.8, 1.8], [6.0, 2.2, 5.0, 1.5], [5.5, 2.4, 3.8, 1.1], [5.2, 2.7, 3.9, 1.4], [6.1, 3.0, 4.6, 1.4], [5.6, 3.0, 4.1, 1.3], [7.6, 3.0, 6.6, 2.1], [5.0, 2.0, 3.5, 1.0], [6.1, 2.8, 4.7, 1.2], [5.7, 2.8, 4.5, 1.3], [5.8, 2.6, 4.0, 1.2], [6.7, 3.1, 4.7, 1.5], [5.7, 2.8, 4.1, 1.3], [5.8, 2.7, 5.1, 1.9], [6.4, 2.8, 5.6, 2.2], [5.5, 2.5, 4.0, 1.3], [6.7, 3.0, 5.2, 2.3], [5.7, 2.6, 3.5, 1.0], [5.8, 2.7, 3.9, 1.2], [5.8, 2.8, 5.1, 2.4], [6.3, 2.5, 4.9, 1.5], [6.2, 2.2, 4.5, 1.5], [6.0, 2.7, 5.1, 1.6], [6.5, 2.8, 4.6, 1.5], [4.9, 2.5, 4.5, 1.7], [6.1, 2.8, 4.0, 1.3], [7.0, 3.2, 4.7, 1.4], [5.7, 3.0, 4.2, 1.2], [6.7, 3.3, 5.7, 2.5], [6.3, 2.3, 4.4, 1.3], [6.0, 3.0, 4.8, 1.8], [6.4, 2.8, 5.6, 2.1], [6.5, 3.0, 5.5, 1.8], [6.5, 3.0, 5.8, 2.2], [7.2, 3.6, 6.1, 2.5], [5.6, 2.9, 3.6, 1.3], [5.6, 3.0, 4.5, 1.5], [6.9, 3.1, 5.1, 2.3], [6.4, 2.9, 4.3, 1.3], [6.2, 3.4, 5.4, 2.3], [6.6, 2.9, 4.6, 1.3], [6.3, 2.8, 5.1, 1.5], [6.9, 3.2, 5.7, 2.3], [6.2, 2.9, 4.3, 1.3], [7.9, 3.8, 6.4, 2.0], [6.6, 3.0, 4.4, 1.4], [6.1, 2.6, 5.6, 1.4], [6.5, 3.2, 5.1, 2.0]]\n",
      "Cluster No.  2\n",
      "[]\n",
      "Cluster No.  3\n",
      "[[5.1, 3.8, 1.9, 0.4], [5.1, 3.3, 1.7, 0.5], [4.6, 3.2, 1.4, 0.2], [5.4, 3.9, 1.7, 0.4], [5.1, 3.8, 1.6, 0.2], [5.1, 3.8, 1.5, 0.3], [5.4, 3.7, 1.5, 0.2], [4.6, 3.4, 1.4, 0.3], [5.3, 3.7, 1.5, 0.2], [5.7, 3.8, 1.7, 0.3], [5.4, 3.4, 1.7, 0.2], [5.0, 3.2, 1.2, 0.2], [4.8, 3.4, 1.9, 0.2], [5.1, 3.4, 1.5, 0.2], [5.0, 3.6, 1.4, 0.2], [5.0, 3.0, 1.6, 0.2], [4.8, 3.1, 1.6, 0.2], [4.4, 2.9, 1.4, 0.2], [5.2, 4.1, 1.5, 0.1], [5.4, 3.9, 1.3, 0.4], [4.8, 3.4, 1.6, 0.2], [4.7, 3.2, 1.3, 0.2], [4.3, 3.0, 1.1, 0.1], [4.5, 2.3, 1.3, 0.3], [5.0, 3.3, 1.4, 0.2], [4.9, 3.1, 1.5, 0.1], [5.0, 3.5, 1.6, 0.6], [5.7, 4.4, 1.5, 0.4], [5.8, 4.0, 1.2, 0.2], [5.5, 3.5, 1.3, 0.2], [5.5, 4.2, 1.4, 0.2], [4.9, 3.1, 1.5, 0.1], [5.1, 3.7, 1.5, 0.4], [4.7, 3.2, 1.6, 0.2], [4.4, 3.2, 1.3, 0.2], [5.2, 3.5, 1.5, 0.2], [5.0, 3.5, 1.3, 0.3], [4.6, 3.1, 1.5, 0.2], [5.0, 3.4, 1.5, 0.2], [5.2, 3.4, 1.4, 0.2], [5.0, 3.4, 1.6, 0.4], [4.8, 3.0, 1.4, 0.3], [4.9, 2.4, 3.3, 1.0], [4.9, 3.1, 1.5, 0.1], [5.0, 2.3, 3.3, 1.0], [5.1, 2.5, 3.0, 1.1], [4.8, 3.0, 1.4, 0.1], [5.1, 3.5, 1.4, 0.3], [4.4, 3.0, 1.3, 0.2], [4.6, 3.6, 1.0, 0.2], [5.4, 3.4, 1.5, 0.4], [4.9, 3.0, 1.4, 0.2]]\n"
     ]
    }
   ],
   "source": [
    "if __name__ == '__main__':\n",
    "    items = ReadData('C:\\\\Users\\\\DELL\\\\Desktop\\\\AI ML\\\\DATA SETS\\\\Unsupervised Data Set (Unlabeled)\\\\Dataset1UnsupervisedIris.txt')\n",
    "    k = 3\n",
    "    means = CalculateMeans(k,items)\n",
    "    clusters = FindCluster(means,items)\n",
    "    print(means)\n",
    "    count = 1\n",
    "    for i in clusters:\n",
    "        print(\"Cluster No. \",count)\n",
    "        print(i)\n",
    "        count += 1\n",
    "    #newItem=[5.4,3.7,1.5,0.2]\n",
    "    #print(Classify(means,newItem))"
   ]
  }
 ],
 "metadata": {
  "kernelspec": {
   "display_name": "Python 3",
   "language": "python",
   "name": "python3"
  },
  "language_info": {
   "codemirror_mode": {
    "name": "ipython",
    "version": 3
   },
   "file_extension": ".py",
   "mimetype": "text/x-python",
   "name": "python",
   "nbconvert_exporter": "python",
   "pygments_lexer": "ipython3",
   "version": "3.10.9 (tags/v3.10.9:1dd9be6, Dec  6 2022, 20:01:21) [MSC v.1934 64 bit (AMD64)]"
  },
  "orig_nbformat": 4,
  "vscode": {
   "interpreter": {
    "hash": "5c1f741a4f83aa020b4b2a4d7353a073a4e5e4a855a3258a20da40294ddbf005"
   }
  }
 },
 "nbformat": 4,
 "nbformat_minor": 2
}
